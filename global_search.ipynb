{
 "cells": [
  {
   "cell_type": "code",
   "execution_count": 1,
   "metadata": {},
   "outputs": [],
   "source": [
    "from networkx import DiGraph, set_node_attributes\n",
    "from vrpy import VehicleRoutingProblem\n",
    "from itertools import chain, combinations"
   ]
  },
  {
   "cell_type": "code",
   "execution_count": 14,
   "metadata": {},
   "outputs": [],
   "source": [
    "G = DiGraph()\n",
    "for v in [1, 2, 3, 4, 5]:\n",
    "    G.add_edge(\"Source\", v, cost=10)\n",
    "    G.add_edge(v, \"Sink\", cost=10)\n",
    "G.add_edge(1, 2, cost=10)\n",
    "G.add_edge(2, 3, cost=10)\n",
    "G.add_edge(3, 4, cost=15)\n",
    "G.add_edge(4, 5, cost=10)"
   ]
  },
  {
   "cell_type": "code",
   "execution_count": 15,
   "metadata": {},
   "outputs": [],
   "source": [
    "prob = VehicleRoutingProblem(G)"
   ]
  },
  {
   "cell_type": "markdown",
   "metadata": {},
   "source": [
    "1. Capacidade dos Veículos: Cada veículo tem uma capacidade máxima de carga que não pode ser excedida.\n",
    "2. Demanda dos Clientes: Cada cliente tem uma demanda específica que deve ser completamente atendida por um único veículo.\n",
    "3. Custo da Rota: Cada rota possui um custo, que simboliza o cômputo agregado da distância percorrida, do tempo de entrega, e do consumo de combustível. O objetivo é minimizar o custo total.\n",
    "4. Número máximo de visitas por rota: Cada rota pode visitar um número máximo de cidades.\n",
    "5. Ponto de Partida e Chegada: Todos os veículos começam e terminam suas rotas no depósito da empresa."
   ]
  },
  {
   "cell_type": "markdown",
   "metadata": {},
   "source": [
    "![img](imgs/nodes_ex1.png)"
   ]
  },
  {
   "cell_type": "code",
   "execution_count": 16,
   "metadata": {},
   "outputs": [
    {
     "name": "stderr",
     "output_type": "stream",
     "text": [
      "INFO:vrpy.vrp:Clarke & Wright solution found with value 80 and 3 vehicles\n",
      "INFO:vrpy.vrp:Greedy solution found with value 85 and 3 vehicles\n",
      "INFO:vrpy.vrp:iteration 0, 80.0\n",
      "INFO:vrpy.vrp:iteration 1, 80.0\n",
      "INFO:vrpy.vrp:iteration 2, 80.0\n",
      "INFO:vrpy.master_solve_pulp:total cost = 80.0\n"
     ]
    }
   ],
   "source": [
    "prob.num_stops = 2\n",
    "prob.num_vehicles = 3\n",
    "prob.solve()"
   ]
  },
  {
   "cell_type": "code",
   "execution_count": 17,
   "metadata": {},
   "outputs": [
    {
     "data": {
      "text/plain": [
       "{1: ['Source', 1, 2, 'Sink'],\n",
       " 2: ['Source', 3, 'Sink'],\n",
       " 3: ['Source', 4, 5, 'Sink']}"
      ]
     },
     "execution_count": 17,
     "metadata": {},
     "output_type": "execute_result"
    }
   ],
   "source": [
    "prob.best_routes"
   ]
  },
  {
   "cell_type": "markdown",
   "metadata": {},
   "source": [
    "### Add Capacity Constraints "
   ]
  },
  {
   "cell_type": "code",
   "execution_count": 18,
   "metadata": {},
   "outputs": [],
   "source": [
    "G = DiGraph()\n",
    "for v in [1, 2, 3, 4, 5]:\n",
    "    G.add_edge(\"Source\", v, cost=10) # add constrain 3\n",
    "    G.add_edge(v, \"Sink\", cost=10)\n",
    "G.add_edge(1, 2, cost=10)\n",
    "G.add_edge(2, 3, cost=10)\n",
    "G.add_edge(3, 4, cost=15)\n",
    "G.add_edge(4, 5, cost=10)\n",
    "\n",
    "prob = VehicleRoutingProblem(G)\n",
    "# prob.num_stops = 3 # Add constrain 4\n",
    "for v in G.nodes():\n",
    "    if v not in [\"Source\", \"Sink\"]:\n",
    "        G.nodes[v][\"demand\"] = 5 # Add constrain 2\n",
    "prob.load_capacity = 10 # Add constrain 1\n"
   ]
  },
  {
   "cell_type": "code",
   "execution_count": 19,
   "metadata": {},
   "outputs": [
    {
     "name": "stderr",
     "output_type": "stream",
     "text": [
      "INFO:vrpy.vrp:new upper bound : max num stops = 4\n",
      "INFO:vrpy.vrp:Clarke & Wright solution found with value 80 and 3 vehicles\n",
      "INFO:vrpy.vrp:Greedy solution found with value 85 and 3 vehicles\n",
      "INFO:vrpy.vrp:iteration 0, 80.0\n",
      "INFO:vrpy.vrp:iteration 1, 80.0\n",
      "INFO:vrpy.vrp:iteration 2, 80.0\n",
      "INFO:vrpy.vrp:iteration 3, 80.0\n",
      "INFO:vrpy.master_solve_pulp:total cost = 80.0\n"
     ]
    },
    {
     "data": {
      "text/plain": [
       "80"
      ]
     },
     "execution_count": 19,
     "metadata": {},
     "output_type": "execute_result"
    }
   ],
   "source": [
    "prob.solve()\n",
    "prob.best_value"
   ]
  },
  {
   "cell_type": "code",
   "execution_count": 20,
   "metadata": {},
   "outputs": [
    {
     "data": {
      "text/plain": [
       "{1: ['Source', 1, 2, 'Sink'],\n",
       " 2: ['Source', 4, 5, 'Sink'],\n",
       " 3: ['Source', 3, 'Sink']}"
      ]
     },
     "execution_count": 20,
     "metadata": {},
     "output_type": "execute_result"
    }
   ],
   "source": [
    "prob.best_routes"
   ]
  },
  {
   "cell_type": "markdown",
   "metadata": {},
   "source": [
    "## Padrão da disciplina"
   ]
  },
  {
   "cell_type": "code",
   "execution_count": 21,
   "metadata": {},
   "outputs": [],
   "source": [
    "import random\n",
    "\n",
    "def gerar_dicionario_demandas(N):\n",
    "    \"\"\"\n",
    "    Gera um dicionário onde a chave é um int de 1 até N e o valor é um inteiro aleatório de 1 até 10.\n",
    "\n",
    "    :param N: Número máximo para as chaves do dicionário.\n",
    "    :return: Dicionário com chaves de 1 até N e valores inteiros aleatórios de 1 até 10.\n",
    "    \"\"\"\n",
    "    return {i: random.randint(1, 10) for i in range(1, N)}\n",
    "\n",
    "\n",
    "def gerar_entradas_grafo(num_nos, max_peso=100, probabilidade=0.25):\n",
    "    \"\"\"\n",
    "    Gera um grafo para o problema de otimização de rotas de veículos.\n",
    "\n",
    "    :param num_nos: Número de nós no grafo, incluindo o depósito.\n",
    "    :param max_peso: Peso máximo para as arestas do grafo.\n",
    "    :param probabilidade: Probabilidade de criar uma rota entre duas cidades.\n",
    "    :return: Um dicionário representando o grafo onde as chaves são tuplas representando as arestas (nó1, nó2)\n",
    "             e os valores são os pesos dessas arestas.\n",
    "    \"\"\"\n",
    "    grafo = {}\n",
    "    # Gerar pesos para arestas entre o depósito e outros nós\n",
    "    for i in range(1, num_nos):\n",
    "        grafo[(0, i)] = random.randint(1, max_peso)\n",
    "        grafo[(i, 0)] = grafo[(0, i)]  # Assume que a distância de volta ao depósito é a mesma\n",
    "\n",
    "    # Gerar pesos para arestas entre todos os outros pares de nós\n",
    "    for i in range(1, num_nos+1):\n",
    "        for j in range(i+1, num_nos):\n",
    "            if random.random() > (1 - probabilidade):  # Verifica a probabilidade\n",
    "                peso = random.randint(1, max_peso)\n",
    "                grafo[(i, j)] = peso\n",
    "\n",
    "    return grafo"
   ]
  },
  {
   "cell_type": "code",
   "execution_count": 23,
   "metadata": {},
   "outputs": [],
   "source": [
    "random.seed(42)\n",
    "num_nos = 11                                   # Número total de nós incluindo o depósito\n",
    "demandas = gerar_dicionario_demandas(num_nos)  # Gera as demandas para cada nó\n",
    "grafo = gerar_entradas_grafo(num_nos)          # Gera o grafo que representa os locais e custos entre eles\n"
   ]
  },
  {
   "cell_type": "code",
   "execution_count": 24,
   "metadata": {},
   "outputs": [
    {
     "data": {
      "text/plain": [
       "({1: 2, 2: 1, 3: 5, 4: 4, 5: 4, 6: 3, 7: 2, 8: 9, 9: 2, 10: 10},\n",
       " {(0, 1): 55,\n",
       "  (1, 0): 55,\n",
       "  (0, 2): 5,\n",
       "  (2, 0): 5,\n",
       "  (0, 3): 4,\n",
       "  (3, 0): 4,\n",
       "  (0, 4): 12,\n",
       "  (4, 0): 12,\n",
       "  (0, 5): 28,\n",
       "  (5, 0): 28,\n",
       "  (0, 6): 30,\n",
       "  (6, 0): 30,\n",
       "  (0, 7): 65,\n",
       "  (7, 0): 65,\n",
       "  (0, 8): 78,\n",
       "  (8, 0): 78,\n",
       "  (0, 9): 4,\n",
       "  (9, 0): 4,\n",
       "  (0, 10): 72,\n",
       "  (10, 0): 72,\n",
       "  (1, 7): 1,\n",
       "  (1, 8): 21,\n",
       "  (2, 4): 44,\n",
       "  (3, 6): 11,\n",
       "  (3, 8): 80,\n",
       "  (3, 9): 47,\n",
       "  (6, 9): 83,\n",
       "  (9, 10): 89})"
      ]
     },
     "execution_count": 24,
     "metadata": {},
     "output_type": "execute_result"
    }
   ],
   "source": [
    "demandas, grafo"
   ]
  },
  {
   "cell_type": "code",
   "execution_count": 25,
   "metadata": {},
   "outputs": [],
   "source": [
    "\n",
    "# Salva o grafo em um arquivo TXT\n",
    "with open('grafo.txt', 'w') as arquivo:\n",
    "  arquivo.write(str(num_nos) + \"\\n\")    # Número de nós, incluindo depósito\n",
    "  for local, demanda in demandas.items():\n",
    "    linha = f\"{local} {demanda}\\n\"      # Par LOCAL DEMANDA\n",
    "    arquivo.write(linha)\n",
    "\n",
    "  arquivo.write(str(len(grafo)) + \"\\n\") # Número de arestas\n",
    "  for aresta, peso in grafo.items():\n",
    "    linha = f\"{aresta[0]} {aresta[1]} {peso}\\n\" # Trio: ORIGEM DESTINO CUSTO\n",
    "    arquivo.write(linha)"
   ]
  },
  {
   "cell_type": "code",
   "execution_count": 26,
   "metadata": {},
   "outputs": [],
   "source": [
    "def ler_arquivo_grafo(caminho_arquivo):\n",
    "    with open(caminho_arquivo, 'r') as arquivo:\n",
    "        # Lê o número de nós\n",
    "        N = int(arquivo.readline().strip())-1\n",
    "\n",
    "        # Lê as demandas dos nós\n",
    "        demandas = {}\n",
    "        for _ in range(N):\n",
    "            linha = arquivo.readline().strip().split()\n",
    "            id_no, demanda = int(linha[0]), int(linha[1])\n",
    "            demandas[id_no] = demanda\n",
    "\n",
    "        # Lê o número de arestas\n",
    "        K = int(arquivo.readline().strip())\n",
    "\n",
    "        # Lê as arestas\n",
    "        arestas = []\n",
    "        for _ in range(K):\n",
    "            linha = arquivo.readline().strip().split()\n",
    "            origem, destino, peso = int(linha[0]), int(linha[1]), int(linha[2])\n",
    "            arestas.append((origem, destino, peso))\n",
    "\n",
    "    return demandas, arestas"
   ]
  },
  {
   "cell_type": "code",
   "execution_count": 35,
   "metadata": {},
   "outputs": [],
   "source": [
    "caminho_arquivo = './data/grafo_11.txt'\n",
    "demandas, arestas = ler_arquivo_grafo(caminho_arquivo)"
   ]
  },
  {
   "cell_type": "code",
   "execution_count": 45,
   "metadata": {},
   "outputs": [
    {
     "data": {
      "text/plain": [
       "({1: 2, 2: 1, 3: 5, 4: 4, 5: 4, 6: 3, 7: 2, 8: 9, 9: 2, 10: 10},\n",
       " [(0, 1, 55),\n",
       "  (1, 0, 55),\n",
       "  (0, 2, 5),\n",
       "  (2, 0, 5),\n",
       "  (0, 3, 4),\n",
       "  (3, 0, 4),\n",
       "  (0, 4, 12),\n",
       "  (4, 0, 12),\n",
       "  (0, 5, 28),\n",
       "  (5, 0, 28),\n",
       "  (0, 6, 30),\n",
       "  (6, 0, 30),\n",
       "  (0, 7, 65),\n",
       "  (7, 0, 65),\n",
       "  (0, 8, 78),\n",
       "  (8, 0, 78),\n",
       "  (0, 9, 4),\n",
       "  (9, 0, 4),\n",
       "  (0, 10, 72),\n",
       "  (10, 0, 72),\n",
       "  (1, 7, 1),\n",
       "  (1, 8, 21),\n",
       "  (2, 4, 44),\n",
       "  (3, 6, 11),\n",
       "  (3, 8, 80),\n",
       "  (3, 9, 47),\n",
       "  (6, 9, 83),\n",
       "  (9, 10, 89)])"
      ]
     },
     "execution_count": 45,
     "metadata": {},
     "output_type": "execute_result"
    }
   ],
   "source": [
    "demandas, arestas"
   ]
  },
  {
   "cell_type": "code",
   "execution_count": 60,
   "metadata": {},
   "outputs": [],
   "source": [
    "G = DiGraph()\n",
    "for inicio, fim, custo in arestas:\n",
    "    if inicio==0: inicio=\"Source\"\n",
    "    if fim==0: fim=\"Sink\"\n",
    "    G.add_edge(inicio, fim, cost=custo)"
   ]
  },
  {
   "cell_type": "code",
   "execution_count": 61,
   "metadata": {},
   "outputs": [],
   "source": [
    "set_node_attributes(G, values=demandas, name=\"demand\")"
   ]
  },
  {
   "cell_type": "code",
   "execution_count": 63,
   "metadata": {},
   "outputs": [
    {
     "name": "stderr",
     "output_type": "stream",
     "text": [
      "INFO:vrpy.vrp:new upper bound : max num stops = 5\n",
      "INFO:vrpy.vrp:Clarke & Wright solution found with value 604 and 6 vehicles\n",
      "INFO:vrpy.vrp:Greedy solution found with value 640 and 6 vehicles\n",
      "INFO:vrpy.vrp:iteration 0, 602.0\n",
      "INFO:vrpy.vrp:iteration 1, 589.0\n",
      "INFO:vrpy.vrp:iteration 2, 589.0\n",
      "INFO:vrpy.vrp:iteration 3, 562.0\n",
      "INFO:vrpy.master_solve_pulp:total cost = 564.0\n"
     ]
    }
   ],
   "source": [
    "prob = VehicleRoutingProblem(G)  # Pode alterar a capacidade\n",
    "prob.load_capacity = 15\n",
    "prob.num_stops = 5                                 # Pode alterar o número máximo de paradas\n",
    "prob.solve()"
   ]
  },
  {
   "cell_type": "code",
   "execution_count": 64,
   "metadata": {},
   "outputs": [
    {
     "data": {
      "text/plain": [
       "{1: ['Source', 8, 'Sink'],\n",
       " 2: ['Source', 1, 7, 'Sink'],\n",
       " 3: ['Source', 5, 'Sink'],\n",
       " 4: ['Source', 3, 6, 'Sink'],\n",
       " 5: ['Source', 10, 'Sink'],\n",
       " 6: ['Source', 9, 'Sink'],\n",
       " 7: ['Source', 4, 'Sink'],\n",
       " 8: ['Source', 2, 'Sink']}"
      ]
     },
     "execution_count": 64,
     "metadata": {},
     "output_type": "execute_result"
    }
   ],
   "source": [
    "prob.best_routes"
   ]
  },
  {
   "cell_type": "code",
   "execution_count": 50,
   "metadata": {},
   "outputs": [
    {
     "data": {
      "text/plain": [
       "564"
      ]
     },
     "execution_count": 50,
     "metadata": {},
     "output_type": "execute_result"
    }
   ],
   "source": [
    "prob.best_value"
   ]
  },
  {
   "cell_type": "code",
   "execution_count": 51,
   "metadata": {},
   "outputs": [
    {
     "data": {
      "text/plain": [
       "{1: 156, 2: 56, 3: 121, 4: 45, 5: 144, 6: 8, 7: 24, 8: 10}"
      ]
     },
     "execution_count": 51,
     "metadata": {},
     "output_type": "execute_result"
    }
   ],
   "source": [
    "prob.best_routes_cost"
   ]
  },
  {
   "cell_type": "code",
   "execution_count": 52,
   "metadata": {},
   "outputs": [
    {
     "data": {
      "text/plain": [
       "{1: 9, 2: 4, 3: 4, 4: 8, 5: 10, 6: 2, 7: 4, 8: 1}"
      ]
     },
     "execution_count": 52,
     "metadata": {},
     "output_type": "execute_result"
    }
   ],
   "source": [
    "prob.best_routes_load"
   ]
  },
  {
   "cell_type": "markdown",
   "metadata": {},
   "source": [
    "### Python version"
   ]
  },
  {
   "cell_type": "code",
   "execution_count": 272,
   "metadata": {},
   "outputs": [],
   "source": [
    "capacidade = 15"
   ]
  },
  {
   "cell_type": "code",
   "execution_count": 273,
   "metadata": {},
   "outputs": [
    {
     "data": {
      "text/plain": [
       "([['source', 1, 'sink'],\n",
       "  ['source', 2, 'sink'],\n",
       "  ['source', 3, 'sink'],\n",
       "  ['source', 4, 'sink'],\n",
       "  ['source', 5, 'sink'],\n",
       "  ['source', 6, 'sink'],\n",
       "  ['source', 7, 'sink'],\n",
       "  ['source', 8, 'sink'],\n",
       "  ['source', 9, 'sink'],\n",
       "  ['source', 1, 8, 'sink'],\n",
       "  ['source', 1, 9, 'sink'],\n",
       "  ['source', 2, 6, 'sink'],\n",
       "  ['source', 3, 9, 'sink'],\n",
       "  ['source', 4, 6, 'sink'],\n",
       "  ['source', 4, 7, 'sink']],\n",
       " {'sink': set(),\n",
       "  'source': {1, 2, 3, 4, 5, 6, 7, 8, 9},\n",
       "  1: {8, 9, 'sink'},\n",
       "  2: {6, 'sink'},\n",
       "  3: {9, 'sink'},\n",
       "  4: {6, 7, 'sink'},\n",
       "  5: {'sink'},\n",
       "  6: {'sink'},\n",
       "  7: {'sink'},\n",
       "  8: {'sink'},\n",
       "  9: {'sink'}})"
      ]
     },
     "execution_count": 273,
     "metadata": {},
     "output_type": "execute_result"
    }
   ],
   "source": [
    "def to_matrix_adj(arestas):\n",
    "    matrix = {'sink': set(), 'source': set()}\n",
    "    for a in arestas:\n",
    "        origem, destino = a[0], a[1]\n",
    "        if origem == 0:\n",
    "            origem = 'source'\n",
    "        if destino == 0:\n",
    "            destino = 'sink'\n",
    "        if origem not in matrix:\n",
    "            matrix[origem] = set()\n",
    "        matrix[origem].add(destino)\n",
    "    return matrix\n",
    "\n",
    "def find_all_paths(graph):\n",
    "    if graph == [] or graph == {}: return []\n",
    "    source, destine = 'source', 'sink'\n",
    "    queue, paths = [[source]], []\n",
    "    count = 0\n",
    "    while queue:\n",
    "        count += 1\n",
    "        path = queue.pop(0)\n",
    "        node = path[-1]\n",
    "        if node == destine:\n",
    "            paths.append(path)\n",
    "        for neighbor in graph[node]:\n",
    "            queue.append(path.copy() + [neighbor])\n",
    "    return paths\n",
    "\n",
    "def gerar_todas_combinacoes(arestas):\n",
    "    matrix_adj = to_matrix_adj(arestas)\n",
    "    all_paths = find_all_paths(matrix_adj)\n",
    "    return all_paths\n",
    "\n",
    "def checa_capacidade(combinacao, demanda, capacidade):\n",
    "    carga_total = 0\n",
    "    for local in combinacao:\n",
    "        if local != 'source' and local != 'sink':\n",
    "            carga_total += demanda[local]\n",
    "    if carga_total <= capacidade:\n",
    "        return True\n",
    "    return False\n",
    "\n",
    "def calcula_custo(combinacao, arestas):\n",
    "    grafo = {(x[0], x[1]): x[2] for x in arestas}\n",
    "    custo_total = 0\n",
    "    for i in range(len(combinacao)-1):\n",
    "        origem = combinacao[i] if combinacao[i] != 'source' and combinacao[i] != 'sink' else 0\n",
    "        destino = combinacao[i+1] if combinacao[i+1] != 'source' and combinacao[i+1] != 'sink' else 0\n",
    "        custo_total += grafo[(origem, destino)]\n",
    "    return custo_total\n",
    "\n",
    "graph = to_matrix_adj(arestas)\n",
    "all_paths = find_all_paths(graph)\n",
    "all_paths, graph"
   ]
  },
  {
   "cell_type": "code",
   "execution_count": 274,
   "metadata": {},
   "outputs": [],
   "source": [
    "# Solver global search VRP from scratch\n",
    "def solver_vrp(arestas, demanda, capacidade):\n",
    "    melhor_rota = None\n",
    "    melhor_custo = float('inf')\n",
    "    rotas = []\n",
    "    combinacoes = gerar_todas_combinacoes(arestas)\n",
    "    \n",
    "    for comb in combinacoes:\n",
    "        if checa_capacidade(comb, demanda, capacidade):\n",
    "            custo = calcula_custo(comb, arestas)\n",
    "            rotas.append({'path': comb, 'cost': custo})\n",
    "            if custo < melhor_custo:\n",
    "                melhor_custo = custo\n",
    "                melhor_rota = comb\n",
    "                \n",
    "    \n",
    "    \n",
    "    return melhor_rota, melhor_custo, rotas\n",
    "    "
   ]
  },
  {
   "cell_type": "code",
   "execution_count": 275,
   "metadata": {},
   "outputs": [
    {
     "data": {
      "text/plain": [
       "[(), (1,), (2,), (3,), (1, 2), (1, 3), (2, 3), (1, 2, 3)]"
      ]
     },
     "execution_count": 275,
     "metadata": {},
     "output_type": "execute_result"
    }
   ],
   "source": [
    "def power_set(iterable):\n",
    "    \"power_set([1,2,3]) --> () (1,) (2,) (3,) (1,2) (1,3) (2,3) (1,2,3)\"\n",
    "    s = list(iterable)\n",
    "    return chain.from_iterable(combinations(s, r) for r in range(len(s)+1))\n",
    "\n",
    "list(power_set([1, 2, 3]))"
   ]
  },
  {
   "cell_type": "markdown",
   "metadata": {},
   "source": [
    "## Checking"
   ]
  },
  {
   "cell_type": "code",
   "execution_count": 276,
   "metadata": {},
   "outputs": [
    {
     "data": {
      "text/plain": [
       "[True,\n",
       " True,\n",
       " True,\n",
       " True,\n",
       " True,\n",
       " True,\n",
       " True,\n",
       " False,\n",
       " True,\n",
       " False,\n",
       " True,\n",
       " True,\n",
       " False,\n",
       " False,\n",
       " False]"
      ]
     },
     "execution_count": 276,
     "metadata": {},
     "output_type": "execute_result"
    }
   ],
   "source": [
    "[checa_capacidade(x, demandas, capacidade=5) for x in all_paths]"
   ]
  },
  {
   "cell_type": "code",
   "execution_count": 277,
   "metadata": {},
   "outputs": [
    {
     "data": {
      "text/plain": [
       "[152, 110, 10, 8, 24, 56, 60, 130, 156, 142, 175, 127, 94, 112, 81]"
      ]
     },
     "execution_count": 277,
     "metadata": {},
     "output_type": "execute_result"
    }
   ],
   "source": [
    "[calcula_custo(x, arestas) for x in all_paths]"
   ]
  },
  {
   "cell_type": "code",
   "execution_count": 278,
   "metadata": {},
   "outputs": [
    {
     "data": {
      "text/plain": [
       "[['source', 1, 'sink'],\n",
       " ['source', 2, 'sink'],\n",
       " ['source', 3, 'sink'],\n",
       " ['source', 4, 'sink'],\n",
       " ['source', 5, 'sink'],\n",
       " ['source', 6, 'sink'],\n",
       " ['source', 7, 'sink'],\n",
       " ['source', 8, 'sink'],\n",
       " ['source', 9, 'sink'],\n",
       " ['source', 1, 8, 'sink'],\n",
       " ['source', 1, 9, 'sink'],\n",
       " ['source', 2, 6, 'sink'],\n",
       " ['source', 3, 9, 'sink'],\n",
       " ['source', 4, 6, 'sink'],\n",
       " ['source', 4, 7, 'sink']]"
      ]
     },
     "execution_count": 278,
     "metadata": {},
     "output_type": "execute_result"
    }
   ],
   "source": [
    "gerar_todas_combinacoes(arestas)"
   ]
  },
  {
   "cell_type": "code",
   "execution_count": 279,
   "metadata": {},
   "outputs": [],
   "source": [
    "melhor_rota, melhor_custo, all_paths = solver_vrp(arestas, demandas, capacidade=15)"
   ]
  },
  {
   "cell_type": "code",
   "execution_count": 280,
   "metadata": {},
   "outputs": [],
   "source": [
    "def total_cost(comb):\n",
    "    return sum([x['cost'] for x in comb])\n",
    "\n",
    "def get_best_route(all_paths):\n",
    "    power_set_paths = list(power_set(all_paths))\n",
    "    valid_combinations = [x for x in power_set_paths if checa_comb_com_demanda(x, demandas)]\n",
    "    return sorted(valid_combinations, key=total_cost)[0]\n",
    "\n",
    "def checa_comb_com_demanda(comb, demanda):\n",
    "    if len(comb) < 1: return False\n",
    "    demanda_keys = list(demanda.keys())\n",
    "    buffer_demanda = demanda_keys.copy()\n",
    "    for x in comb:\n",
    "        path = x['path']\n",
    "        for d in buffer_demanda:\n",
    "            if d in path and d in demanda_keys:\n",
    "                demanda_keys.remove(d)\n",
    "        if len(demanda_keys) == 0:\n",
    "            return True\n",
    "    return False"
   ]
  },
  {
   "cell_type": "code",
   "execution_count": 281,
   "metadata": {},
   "outputs": [
    {
     "data": {
      "text/plain": [
       "({'path': ['source', 4, 'sink'], 'cost': 8},\n",
       " {'path': ['source', 5, 'sink'], 'cost': 24},\n",
       " {'path': ['source', 7, 'sink'], 'cost': 60},\n",
       " {'path': ['source', 1, 8, 'sink'], 'cost': 142},\n",
       " {'path': ['source', 2, 6, 'sink'], 'cost': 127},\n",
       " {'path': ['source', 3, 9, 'sink'], 'cost': 94})"
      ]
     },
     "execution_count": 281,
     "metadata": {},
     "output_type": "execute_result"
    }
   ],
   "source": [
    "best_route = get_best_route(all_paths)\n",
    "best_route"
   ]
  },
  {
   "cell_type": "markdown",
   "metadata": {},
   "source": [
    "### Final Version:"
   ]
  },
  {
   "cell_type": "code",
   "execution_count": 2,
   "metadata": {},
   "outputs": [],
   "source": [
    "import random\n",
    "\n",
    "def gerar_dicionario_demandas(N):\n",
    "    \"\"\"\n",
    "    Gera um dicionário onde a chave é um int de 1 até N e o valor é um inteiro aleatório de 1 até 10.\n",
    "\n",
    "    :param N: Número máximo para as chaves do dicionário.\n",
    "    :return: Dicionário com chaves de 1 até N e valores inteiros aleatórios de 1 até 10.\n",
    "    \"\"\"\n",
    "    return {i: random.randint(1, 10) for i in range(1, N)}\n",
    "\n",
    "\n",
    "def gerar_entradas_grafo(num_nos, max_peso=100, probabilidade=0.25):\n",
    "    \"\"\"\n",
    "    Gera um grafo para o problema de otimização de rotas de veículos.\n",
    "\n",
    "    :param num_nos: Número de nós no grafo, incluindo o depósito.\n",
    "    :param max_peso: Peso máximo para as arestas do grafo.\n",
    "    :param probabilidade: Probabilidade de criar uma rota entre duas cidades.\n",
    "    :return: Um dicionário representando o grafo onde as chaves são tuplas representando as arestas (nó1, nó2)\n",
    "             e os valores são os pesos dessas arestas.\n",
    "    \"\"\"\n",
    "    grafo = {}\n",
    "    # Gerar pesos para arestas entre o depósito e outros nós\n",
    "    for i in range(1, num_nos):\n",
    "        grafo[(0, i)] = random.randint(1, max_peso)\n",
    "        grafo[(i, 0)] = grafo[(0, i)]  # Assume que a distância de volta ao depósito é a mesma\n",
    "\n",
    "    # Gerar pesos para arestas entre todos os outros pares de nós\n",
    "    for i in range(1, num_nos+1):\n",
    "        for j in range(i+1, num_nos):\n",
    "            if random.random() > (1 - probabilidade):  # Verifica a probabilidade\n",
    "                peso = random.randint(1, max_peso)\n",
    "                grafo[(i, j)] = peso\n",
    "\n",
    "    return grafo\n",
    "\n",
    "def ler_arquivo_grafo(caminho_arquivo):\n",
    "    with open(caminho_arquivo, 'r') as arquivo:\n",
    "        # Lê o número de nós\n",
    "        N = int(arquivo.readline().strip())-1\n",
    "\n",
    "        # Lê as demandas dos nós\n",
    "        demandas = {}\n",
    "        for _ in range(N):\n",
    "            linha = arquivo.readline().strip().split()\n",
    "            id_no, demanda = int(linha[0]), int(linha[1])\n",
    "            demandas[id_no] = demanda\n",
    "\n",
    "        # Lê o número de arestas\n",
    "        K = int(arquivo.readline().strip())\n",
    "\n",
    "        # Lê as arestas\n",
    "        arestas = []\n",
    "        for _ in range(K):\n",
    "            linha = arquivo.readline().strip().split()\n",
    "            origem, destino, peso = int(linha[0]), int(linha[1]), int(linha[2])\n",
    "            arestas.append((origem, destino, peso))\n",
    "\n",
    "    return demandas, arestas\n",
    "\n",
    "\n",
    "def generate_batch_samples(n):\n",
    "    for i in range(4, n + 4, 1):\n",
    "        random.seed(42)\n",
    "        \n",
    "        num_nos = i                                   # Número total de nós incluindo o depósito\n",
    "        demandas = gerar_dicionario_demandas(num_nos)  # Gera as demandas para cada nó\n",
    "        grafo = gerar_entradas_grafo(num_nos)          # Gera o grafo que representa os locais e custos entre eles\n",
    "        filename = f'./data/grafo_{i}.txt'\n",
    "        # Salva o grafo em um arquivo TXT\n",
    "        with open(filename, 'w') as arquivo:\n",
    "            arquivo.write(str(num_nos) + \"\\n\")    # Número de nós, incluindo depósito\n",
    "            for local, demanda in demandas.items():\n",
    "                linha = f\"{local} {demanda}\\n\"      # Par LOCAL DEMANDA\n",
    "                arquivo.write(linha)\n",
    "\n",
    "            arquivo.write(str(len(grafo)) + \"\\n\") # Número de arestas\n",
    "            for aresta, peso in grafo.items():\n",
    "                linha = f\"{aresta[0]} {aresta[1]} {peso}\\n\" # Trio: ORIGEM DESTINO CUSTO\n",
    "                arquivo.write(linha)\n",
    "\n",
    "# generate_batch_samples(10)\n"
   ]
  },
  {
   "cell_type": "code",
   "execution_count": 93,
   "metadata": {},
   "outputs": [
    {
     "data": {
      "text/plain": [
       "[2, 4, 5]"
      ]
     },
     "execution_count": 93,
     "metadata": {},
     "output_type": "execute_result"
    }
   ],
   "source": [
    "a= [5, 4, 2 ]\n",
    "b = sorted(a)\n",
    "b"
   ]
  },
  {
   "cell_type": "code",
   "execution_count": null,
   "metadata": {},
   "outputs": [],
   "source": [
    "def to_matrix_adj(arestas):\n",
    "    matrix = {'sink': set(), 'source': set()}\n",
    "    for a in arestas:\n",
    "        origem, destino = a[0], a[1]\n",
    "        if origem == 0:\n",
    "            origem = 'source'\n",
    "        if destino == 0:\n",
    "            destino = 'sink'\n",
    "        if origem not in matrix:\n",
    "            matrix[origem] = set()\n",
    "        matrix[origem].add(destino)\n",
    "    return matrix\n",
    "\n",
    "# def find_all_paths(graph, demanda=None, arestas=None, bfs=False):\n",
    "#     if bfs:\n",
    "#         if graph == [] or graph == {}: return []\n",
    "#         source, destine = 'source', 'sink'\n",
    "#         queue, paths = [[source]], []\n",
    "#         while queue:\n",
    "#             path = queue.pop(0)\n",
    "#             node = path[-1]\n",
    "#             if node == destine:\n",
    "#                 paths.append(path)\n",
    "#             for neighbor in graph[node]:\n",
    "#                 queue.append(path.copy() + [neighbor])\n",
    "#     else:\n",
    "#         if graph == [] or graph == {}: return []\n",
    "#         source, destine = 'source', 'sink'\n",
    "#         queue, paths = [[source, 0]], []\n",
    "#         while queue:\n",
    "#             path = queue.pop(0)\n",
    "#             node = path[-1]\n",
    "#             if node == destine:\n",
    "#                 paths.append(path)\n",
    "#             sorted_neighbors = sorted(graph[node], key=lambda x: arestas.get((node, x), float('inf')))\n",
    "#             for neighbor in sorted_neighbors:\n",
    "#                 queue.append(path.copy() + [neighbor])\n",
    "#     return paths\n",
    "\n",
    "def find_all_paths(graph):\n",
    "    if graph == [] or graph == {}: return []\n",
    "    source, destine = 'source', 'sink'\n",
    "    queue, paths = [[source]], []\n",
    "    while queue:\n",
    "        path = queue.pop(0)\n",
    "        node = path[-1]\n",
    "        if node == destine:\n",
    "            paths.append(path)\n",
    "        for neighbor in graph[node]:\n",
    "            queue.append(path.copy() + [neighbor])\n",
    "    print(paths)\n",
    "    return paths\n",
    "\n",
    "def gerar_todos_os_paths(arestas):\n",
    "    matrix_adj = to_matrix_adj(arestas)\n",
    "    all_paths = find_all_paths(matrix_adj)\n",
    "    return all_paths\n",
    "\n",
    "def checa_capacidade(path, demanda, capacidade):\n",
    "    carga_total = 0\n",
    "    for node in path:\n",
    "        if node != 'source' and node != 'sink':\n",
    "            carga_total += demanda[node]\n",
    "    if carga_total <= capacidade:\n",
    "        return True\n",
    "    return False\n",
    "\n",
    "def calcula_custo(path, arestas):\n",
    "    grafo = {(x[0], x[1]): x[2] for x in arestas}\n",
    "    custo_total = 0\n",
    "    for i in range(len(path)-1):\n",
    "        origem = path[i] if path[i] != 'source' and path[i] != 'sink' else 0\n",
    "        destino = path[i+1] if path[i+1] != 'source' and path[i+1] != 'sink' else 0\n",
    "        custo_total += grafo[(origem, destino)]\n",
    "    return custo_total\n",
    "\n",
    "def power_set(iterable):\n",
    "    \"power_set([1,2,3]) --> () (1,) (2,) (3,) (1,2) (1,3) (2,3) (1,2,3)\"\n",
    "    s = list(iterable)\n",
    "    return chain.from_iterable(combinations(s, r) for r in range(len(s)+1))\n",
    "\n",
    "def total_cost(comb):\n",
    "    return sum([x['cost'] for x in comb])\n",
    "\n",
    "def get_best_route(all_paths):\n",
    "    power_set_paths = list(power_set(all_paths))\n",
    "    print(power_set_paths)\n",
    "    valid_combinations = [x for x in power_set_paths if checa_comb_com_demanda(x, demandas)]\n",
    "    return sorted(valid_combinations, key=total_cost)[0]\n",
    "\n",
    "def checa_comb_com_demanda(comb, demanda):\n",
    "    if len(comb) < 1: return False\n",
    "    demanda_keys = list(demanda.keys())\n",
    "    buffer_demanda = demanda_keys.copy()\n",
    "    for x in comb:\n",
    "        path = x['path']\n",
    "        for d in buffer_demanda:\n",
    "            if d in path and d in demanda_keys:\n",
    "                demanda_keys.remove(d)\n",
    "        if len(demanda_keys) == 0:\n",
    "            return True\n",
    "    return False\n",
    "\n",
    "def get_all_paths(arestas, demanda, capacidade):\n",
    "    all_valid_paths = []\n",
    "    all_paths = gerar_todos_os_paths(arestas)\n",
    "    for path in all_paths:\n",
    "        if checa_capacidade(path, demanda, capacidade):\n",
    "            custo = calcula_custo(path, arestas)\n",
    "            all_valid_paths.append({'path': path, 'cost': custo})\n",
    "    return all_valid_paths\n",
    "\n",
    "def solver_vrp(arestas, demanda, capacidade):\n",
    "    all_paths = get_all_paths(arestas, demanda, capacidade)\n",
    "    best_route = get_best_route(all_paths)\n",
    "    return best_route"
   ]
  },
  {
   "cell_type": "code",
   "execution_count": 4,
   "metadata": {},
   "outputs": [],
   "source": [
    "capacidade = 15"
   ]
  },
  {
   "cell_type": "code",
   "execution_count": 33,
   "metadata": {},
   "outputs": [
    {
     "name": "stdout",
     "output_type": "stream",
     "text": [
      "./data/grafo_4.txt ({'path': ['source', 1, 'sink'], 'cost': 64}, {'path': ['source', 2, 3, 'sink'], 'cost': 59})\n",
      "./data/grafo_5.txt ({'path': ['source', 2, 'sink'], 'cost': 36}, {'path': ['source', 4, 'sink'], 'cost': 28}, {'path': ['source', 1, 3, 'sink'], 'cost': 136})\n",
      "./data/grafo_6.txt ({'path': ['source', 3, 'sink'], 'cost': 28}, {'path': ['source', 4, 'sink'], 'cost': 174}, {'path': ['source', 5, 'sink'], 'cost': 190}, {'path': ['source', 1, 2, 'sink'], 'cost': 125})\n",
      "./data/grafo_7.txt ({'path': ['source', 1, 'sink'], 'cost': 190}, {'path': ['source', 2, 'sink'], 'cost': 28}, {'path': ['source', 3, 6, 'sink'], 'cost': 197}, {'path': ['source', 4, 5, 'sink'], 'cost': 255})\n",
      "./data/grafo_8.txt ({'path': ['source', 1, 'sink'], 'cost': 174}, {'path': ['source', 4, 'sink'], 'cost': 24}, {'path': ['source', 5, 'sink'], 'cost': 152}, {'path': ['source', 2, 6, 'sink'], 'cost': 151}, {'path': ['source', 3, 7, 'sink'], 'cost': 119})\n",
      "./data/grafo_9.txt ({'path': ['source', 1, 'sink'], 'cost': 24}, {'path': ['source', 5, 'sink'], 'cost': 8}, {'path': ['source', 6, 'sink'], 'cost': 24}, {'path': ['source', 7, 'sink'], 'cost': 56}, {'path': ['source', 2, 3, 'sink'], 'cost': 132}, {'path': ['source', 4, 8, 'sink'], 'cost': 46})\n",
      "./data/grafo_10.txt ({'path': ['source', 4, 'sink'], 'cost': 8}, {'path': ['source', 5, 'sink'], 'cost': 24}, {'path': ['source', 7, 'sink'], 'cost': 60}, {'path': ['source', 1, 8, 'sink'], 'cost': 142}, {'path': ['source', 2, 6, 'sink'], 'cost': 127}, {'path': ['source', 3, 9, 'sink'], 'cost': 94})\n",
      "./data/grafo_11.txt ({'path': ['source', 2, 'sink'], 'cost': 10}, {'path': ['source', 4, 'sink'], 'cost': 24}, {'path': ['source', 5, 'sink'], 'cost': 56}, {'path': ['source', 9, 'sink'], 'cost': 8}, {'path': ['source', 10, 'sink'], 'cost': 144}, {'path': ['source', 1, 8, 'sink'], 'cost': 154}, {'path': ['source', 1, 7, 'sink'], 'cost': 121}, {'path': ['source', 3, 6, 'sink'], 'cost': 45})\n"
     ]
    }
   ],
   "source": [
    "# all_solutions = []\n",
    "# for i in range(4, 12, 1):\n",
    "#     caminho_arquivo = f'./data/grafo_{i}.txt'\n",
    "#     demandas, arestas = ler_arquivo_grafo(caminho_arquivo)\n",
    "#     best_route = solver_vrp(arestas, demandas, capacidade)\n",
    "#     best_route, total_cost(best_route)\n",
    "#     print(caminho_arquivo, best_route)\n",
    "#     all_solutions.append(best_route)"
   ]
  },
  {
   "cell_type": "code",
   "execution_count": 24,
   "metadata": {},
   "outputs": [
    {
     "name": "stdout",
     "output_type": "stream",
     "text": [
      "[['source', 1, 'sink'], ['source', 2, 'sink'], ['source', 3, 'sink'], ['source', 2, 3, 'sink']]\n"
     ]
    },
    {
     "data": {
      "text/plain": [
       "(({'path': ['source', 1, 'sink'], 'cost': 64},\n",
       "  {'path': ['source', 2, 3, 'sink'], 'cost': 59}),\n",
       " 123)"
      ]
     },
     "execution_count": 24,
     "metadata": {},
     "output_type": "execute_result"
    }
   ],
   "source": [
    "caminho_arquivo = f'./data/grafo_4.txt'\n",
    "demandas, arestas = ler_arquivo_grafo(caminho_arquivo)\n",
    "best_route = solver_vrp(arestas, demandas, capacidade=15)\n",
    "best_route, total_cost(best_route)\n"
   ]
  },
  {
   "cell_type": "code",
   "execution_count": null,
   "metadata": {},
   "outputs": [
    {
     "data": {
      "text/plain": [
       "(({'path': ['source', 2, 'sink'], 'cost': 10},\n",
       "  {'path': ['source', 4, 'sink'], 'cost': 24},\n",
       "  {'path': ['source', 5, 'sink'], 'cost': 56},\n",
       "  {'path': ['source', 9, 'sink'], 'cost': 8},\n",
       "  {'path': ['source', 10, 'sink'], 'cost': 144},\n",
       "  {'path': ['source', 1, 8, 'sink'], 'cost': 154},\n",
       "  {'path': ['source', 1, 7, 'sink'], 'cost': 121},\n",
       "  {'path': ['source', 3, 6, 'sink'], 'cost': 45}),\n",
       " 562)"
      ]
     },
     "metadata": {},
     "output_type": "display_data"
    }
   ],
   "source": [
    "caminho_arquivo = f'./data/grafo_11.txt'\n",
    "demandas, arestas = ler_arquivo_grafo(caminho_arquivo)\n",
    "best_route = solver_vrp(arestas, demandas, capacidade)\n",
    "best_route, total_cost(best_route)\n"
   ]
  },
  {
   "cell_type": "code",
   "execution_count": 59,
   "metadata": {},
   "outputs": [
    {
     "data": {
      "text/plain": [
       "({1: ['Source', 8, 'Sink'],\n",
       "  2: ['Source', 5, 'Sink'],\n",
       "  3: ['Source', 1, 7, 'Sink'],\n",
       "  4: ['Source', 3, 6, 'Sink'],\n",
       "  5: ['Source', 10, 'Sink'],\n",
       "  6: ['Source', 9, 'Sink'],\n",
       "  7: ['Source', 4, 'Sink'],\n",
       "  8: ['Source', 2, 'Sink']},\n",
       " {1: 156, 2: 56, 3: 121, 4: 45, 5: 144, 6: 8, 7: 24, 8: 10},\n",
       " 564)"
      ]
     },
     "execution_count": 59,
     "metadata": {},
     "output_type": "execute_result"
    }
   ],
   "source": [
    "prob.best_routes, prob.best_routes_cost, prob.best_value"
   ]
  },
  {
   "cell_type": "markdown",
   "metadata": {},
   "source": [
    "## C++ Version"
   ]
  },
  {
   "cell_type": "code",
   "execution_count": null,
   "metadata": {},
   "outputs": [],
   "source": [
    "%%writefile brute_force.cpp\n",
    "#include <iostream>\n",
    "#include <vector>\n",
    "#include <set>\n",
    "#include <map>\n",
    "#include <queue>\n",
    "#include <utility> // Para std::pair\n",
    "\n",
    "// Define o tipo Edge como uma tupla de três inteiros (origem, destino, custo)\n",
    "using Edge = std::tuple<int, int, int>;\n",
    "\n",
    "// Define um grafo como um mapa de inteiros para conjuntos de inteiros\n",
    "using Graph = std::map<int, std::set<int>>;\n",
    "\n",
    "// Define um caminho como um vetor de inteiros\n",
    "using Path = std::vector<int>;\n",
    "\n",
    "// Define uma demanda como um mapa de inteiros para inteiros\n",
    "using Demand = std::map<int, int>;\n",
    "\n",
    "// Define arestas como um mapa de pares de inteiros para inteiros\n",
    "using Edges = std::map<std::pair<int, int>, int>;"
   ]
  },
  {
   "cell_type": "code",
   "execution_count": null,
   "metadata": {},
   "outputs": [],
   "source": []
  },
  {
   "cell_type": "code",
   "execution_count": null,
   "metadata": {},
   "outputs": [],
   "source": []
  },
  {
   "cell_type": "code",
   "execution_count": null,
   "metadata": {},
   "outputs": [],
   "source": []
  }
 ],
 "metadata": {
  "kernelspec": {
   "display_name": "env",
   "language": "python",
   "name": "python3"
  },
  "language_info": {
   "codemirror_mode": {
    "name": "ipython",
    "version": 3
   },
   "file_extension": ".py",
   "mimetype": "text/x-python",
   "name": "python",
   "nbconvert_exporter": "python",
   "pygments_lexer": "ipython3",
   "version": "3.9.13"
  }
 },
 "nbformat": 4,
 "nbformat_minor": 2
}
